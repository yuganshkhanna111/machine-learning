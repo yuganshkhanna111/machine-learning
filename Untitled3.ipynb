{
  "nbformat": 4,
  "nbformat_minor": 0,
  "metadata": {
    "colab": {
      "name": "Untitled3.ipynb",
      "provenance": [],
      "collapsed_sections": [],
      "include_colab_link": true
    },
    "kernelspec": {
      "name": "python3",
      "display_name": "Python 3"
    }
  },
  "cells": [
    {
      "cell_type": "markdown",
      "metadata": {
        "id": "view-in-github",
        "colab_type": "text"
      },
      "source": [
        "<a href=\"https://colab.research.google.com/github/yuganshkhanna111/machine-learning/blob/main/Untitled3.ipynb\" target=\"_parent\"><img src=\"https://colab.research.google.com/assets/colab-badge.svg\" alt=\"Open In Colab\"/></a>"
      ]
    },
    {
      "cell_type": "code",
      "metadata": {
        "id": "niDAFe8pSeel"
      },
      "source": [
        "from keras.datasets import cifar10\n",
        "from keras.utils import np_utils\n",
        "from keras.models import Sequential\n",
        "from keras.layers import Dense, Dropout, Activation, Flatten, BatchNormalization, Input, Flatten"
      ],
      "execution_count": 43,
      "outputs": []
    },
    {
      "cell_type": "code",
      "metadata": {
        "id": "dEQgDcChlqWD",
        "outputId": "1b1c8e06-d373-4686-c8ce-b62649059341",
        "colab": {
          "base_uri": "https://localhost:8080/"
        }
      },
      "source": [
        "from google.colab import drive\n",
        "drive.mount('/content/drive')"
      ],
      "execution_count": 2,
      "outputs": [
        {
          "output_type": "stream",
          "text": [
            "Mounted at /content/drive\n"
          ],
          "name": "stdout"
        }
      ]
    },
    {
      "cell_type": "code",
      "metadata": {
        "id": "msv89gk0TBSF"
      },
      "source": [
        "from keras.layers.convolutional import Conv2D, MaxPooling2D\n",
        "from keras.optimizers import SGD, Adam, RMSprop\n",
        "import matplotlib.pyplot as plt\n",
        "\n",
        "OPTIM=Adam(lr = 0.00001)"
      ],
      "execution_count": 4,
      "outputs": []
    },
    {
      "cell_type": "code",
      "metadata": {
        "id": "pKjFHIHYd1m-",
        "outputId": "5243ad44-28cb-4081-fe10-dbd21645c25d",
        "colab": {
          "base_uri": "https://localhost:8080/"
        }
      },
      "source": [
        "%cp -avr '/content/drive/My Drive/archiven' '/content/dataset'"
      ],
      "execution_count": 3,
      "outputs": [
        {
          "output_type": "stream",
          "text": [
            "'/content/drive/My Drive/archiven' -> '/content/dataset'\n",
            "'/content/drive/My Drive/archiven/harry-potter' -> '/content/dataset/harry-potter'\n",
            "'/content/drive/My Drive/archiven/harry-potter/0002' -> '/content/dataset/harry-potter/0002'\n",
            "'/content/drive/My Drive/archiven/harry-potter/0002/009.jpg' -> '/content/dataset/harry-potter/0002/009.jpg'\n",
            "'/content/drive/My Drive/archiven/harry-potter/0002/007.jpg' -> '/content/dataset/harry-potter/0002/007.jpg'\n",
            "'/content/drive/My Drive/archiven/harry-potter/0002/006.jpg' -> '/content/dataset/harry-potter/0002/006.jpg'\n",
            "'/content/drive/My Drive/archiven/harry-potter/0002/010.jpg' -> '/content/dataset/harry-potter/0002/010.jpg'\n",
            "'/content/drive/My Drive/archiven/harry-potter/0002/005.jpg' -> '/content/dataset/harry-potter/0002/005.jpg'\n",
            "'/content/drive/My Drive/archiven/harry-potter/0002/003.jpg' -> '/content/dataset/harry-potter/0002/003.jpg'\n",
            "'/content/drive/My Drive/archiven/harry-potter/0002/002.jpg' -> '/content/dataset/harry-potter/0002/002.jpg'\n",
            "'/content/drive/My Drive/archiven/harry-potter/0002/001.jpg' -> '/content/dataset/harry-potter/0002/001.jpg'\n",
            "'/content/drive/My Drive/archiven/harry-potter/0002/004.jpg' -> '/content/dataset/harry-potter/0002/004.jpg'\n",
            "'/content/drive/My Drive/archiven/harry-potter/0002/008.jpg' -> '/content/dataset/harry-potter/0002/008.jpg'\n",
            "'/content/drive/My Drive/archiven/harry-potter/0002/012.jpg' -> '/content/dataset/harry-potter/0002/012.jpg'\n",
            "'/content/drive/My Drive/archiven/harry-potter/0002/013.jpg' -> '/content/dataset/harry-potter/0002/013.jpg'\n",
            "'/content/drive/My Drive/archiven/harry-potter/0002/011.jpg' -> '/content/dataset/harry-potter/0002/011.jpg'\n",
            "'/content/drive/My Drive/archiven/harry-potter/0001' -> '/content/dataset/harry-potter/0001'\n",
            "'/content/drive/My Drive/archiven/harry-potter/0001/001.jpg' -> '/content/dataset/harry-potter/0001/001.jpg'\n",
            "'/content/drive/My Drive/archiven/harry-potter/0001/002.jpg' -> '/content/dataset/harry-potter/0001/002.jpg'\n",
            "'/content/drive/My Drive/archiven/harry-potter/0001/006.jpg' -> '/content/dataset/harry-potter/0001/006.jpg'\n",
            "'/content/drive/My Drive/archiven/harry-potter/0001/010.jpg' -> '/content/dataset/harry-potter/0001/010.jpg'\n",
            "'/content/drive/My Drive/archiven/harry-potter/0001/012.jpg' -> '/content/dataset/harry-potter/0001/012.jpg'\n",
            "'/content/drive/My Drive/archiven/harry-potter/0001/007.jpg' -> '/content/dataset/harry-potter/0001/007.jpg'\n",
            "'/content/drive/My Drive/archiven/harry-potter/0001/009.jpg' -> '/content/dataset/harry-potter/0001/009.jpg'\n",
            "'/content/drive/My Drive/archiven/harry-potter/0001/005.jpg' -> '/content/dataset/harry-potter/0001/005.jpg'\n",
            "'/content/drive/My Drive/archiven/harry-potter/0001/004.jpg' -> '/content/dataset/harry-potter/0001/004.jpg'\n",
            "'/content/drive/My Drive/archiven/harry-potter/0001/003.jpg' -> '/content/dataset/harry-potter/0001/003.jpg'\n",
            "'/content/drive/My Drive/archiven/harry-potter/0001/008.jpg' -> '/content/dataset/harry-potter/0001/008.jpg'\n",
            "'/content/drive/My Drive/archiven/harry-potter/0001/011.jpg' -> '/content/dataset/harry-potter/0001/011.jpg'\n",
            "'/content/drive/My Drive/archiven/harry-potter/0001/013.jpg' -> '/content/dataset/harry-potter/0001/013.jpg'\n",
            "'/content/drive/My Drive/archiven/harry-potter/0001/Untitled.ipynb' -> '/content/dataset/harry-potter/0001/Untitled.ipynb'\n",
            "'/content/drive/My Drive/archiven/harry-potter/0001/Untitled1.ipynb' -> '/content/dataset/harry-potter/0001/Untitled1.ipynb'\n",
            "'/content/drive/My Drive/archiven/harry-potter/0001/Untitled2.ipynb' -> '/content/dataset/harry-potter/0001/Untitled2.ipynb'\n",
            "'/content/drive/My Drive/archiven/jurassic-world' -> '/content/dataset/jurassic-world'\n",
            "'/content/drive/My Drive/archiven/jurassic-world/0001' -> '/content/dataset/jurassic-world/0001'\n",
            "'/content/drive/My Drive/archiven/jurassic-world/0001/005.jpg' -> '/content/dataset/jurassic-world/0001/005.jpg'\n",
            "'/content/drive/My Drive/archiven/jurassic-world/0001/002.jpg' -> '/content/dataset/jurassic-world/0001/002.jpg'\n",
            "'/content/drive/My Drive/archiven/jurassic-world/0001/001.jpg' -> '/content/dataset/jurassic-world/0001/001.jpg'\n",
            "'/content/drive/My Drive/archiven/jurassic-world/0001/003.jpg' -> '/content/dataset/jurassic-world/0001/003.jpg'\n",
            "'/content/drive/My Drive/archiven/jurassic-world/0001/004.jpg' -> '/content/dataset/jurassic-world/0001/004.jpg'\n",
            "'/content/drive/My Drive/archiven/jurassic-world/0001/006.jpg' -> '/content/dataset/jurassic-world/0001/006.jpg'\n",
            "'/content/drive/My Drive/archiven/jurassic-world/0001/011.jpg' -> '/content/dataset/jurassic-world/0001/011.jpg'\n",
            "'/content/drive/My Drive/archiven/jurassic-world/0001/009.jpg' -> '/content/dataset/jurassic-world/0001/009.jpg'\n",
            "'/content/drive/My Drive/archiven/jurassic-world/0001/008.jpg' -> '/content/dataset/jurassic-world/0001/008.jpg'\n",
            "'/content/drive/My Drive/archiven/jurassic-world/0001/010.jpg' -> '/content/dataset/jurassic-world/0001/010.jpg'\n",
            "'/content/drive/My Drive/archiven/jurassic-world/0001/012.jpg' -> '/content/dataset/jurassic-world/0001/012.jpg'\n",
            "'/content/drive/My Drive/archiven/jurassic-world/0001/007.jpg' -> '/content/dataset/jurassic-world/0001/007.jpg'\n",
            "'/content/drive/My Drive/archiven/jurassic-world/0001/013.jpg' -> '/content/dataset/jurassic-world/0001/013.jpg'\n",
            "'/content/drive/My Drive/archiven/jurassic-world/0001/014.jpg' -> '/content/dataset/jurassic-world/0001/014.jpg'\n",
            "'/content/drive/My Drive/archiven/jurassic-world/0002' -> '/content/dataset/jurassic-world/0002'\n",
            "'/content/drive/My Drive/archiven/jurassic-world/0002/002.jpg' -> '/content/dataset/jurassic-world/0002/002.jpg'\n",
            "'/content/drive/My Drive/archiven/jurassic-world/0002/003.jpg' -> '/content/dataset/jurassic-world/0002/003.jpg'\n",
            "'/content/drive/My Drive/archiven/jurassic-world/0002/001.jpg' -> '/content/dataset/jurassic-world/0002/001.jpg'\n",
            "'/content/drive/My Drive/archiven/jurassic-world/0002/005.jpg' -> '/content/dataset/jurassic-world/0002/005.jpg'\n",
            "'/content/drive/My Drive/archiven/jurassic-world/0002/009.jpg' -> '/content/dataset/jurassic-world/0002/009.jpg'\n",
            "'/content/drive/My Drive/archiven/jurassic-world/0002/006.jpg' -> '/content/dataset/jurassic-world/0002/006.jpg'\n",
            "'/content/drive/My Drive/archiven/jurassic-world/0002/010.jpg' -> '/content/dataset/jurassic-world/0002/010.jpg'\n",
            "'/content/drive/My Drive/archiven/jurassic-world/0002/011.jpg' -> '/content/dataset/jurassic-world/0002/011.jpg'\n",
            "'/content/drive/My Drive/archiven/jurassic-world/0002/008.jpg' -> '/content/dataset/jurassic-world/0002/008.jpg'\n",
            "'/content/drive/My Drive/archiven/jurassic-world/0002/004.jpg' -> '/content/dataset/jurassic-world/0002/004.jpg'\n",
            "'/content/drive/My Drive/archiven/jurassic-world/0002/012.jpg' -> '/content/dataset/jurassic-world/0002/012.jpg'\n",
            "'/content/drive/My Drive/archiven/jurassic-world/0002/013.jpg' -> '/content/dataset/jurassic-world/0002/013.jpg'\n",
            "'/content/drive/My Drive/archiven/jurassic-world/0002/014.jpg' -> '/content/dataset/jurassic-world/0002/014.jpg'\n",
            "'/content/drive/My Drive/archiven/jurassic-world/0002/007.jpg' -> '/content/dataset/jurassic-world/0002/007.jpg'\n",
            "'/content/drive/My Drive/archiven/star-wars' -> '/content/dataset/star-wars'\n",
            "'/content/drive/My Drive/archiven/star-wars/0010' -> '/content/dataset/star-wars/0010'\n",
            "'/content/drive/My Drive/archiven/star-wars/0010/004.jpg' -> '/content/dataset/star-wars/0010/004.jpg'\n",
            "'/content/drive/My Drive/archiven/star-wars/0010/003.jpg' -> '/content/dataset/star-wars/0010/003.jpg'\n",
            "'/content/drive/My Drive/archiven/star-wars/0010/002.jpg' -> '/content/dataset/star-wars/0010/002.jpg'\n",
            "'/content/drive/My Drive/archiven/star-wars/0010/007.jpg' -> '/content/dataset/star-wars/0010/007.jpg'\n",
            "'/content/drive/My Drive/archiven/star-wars/0010/006.jpg' -> '/content/dataset/star-wars/0010/006.jpg'\n",
            "'/content/drive/My Drive/archiven/star-wars/0010/005.jpg' -> '/content/dataset/star-wars/0010/005.jpg'\n",
            "'/content/drive/My Drive/archiven/star-wars/0010/001.jpg' -> '/content/dataset/star-wars/0010/001.jpg'\n",
            "'/content/drive/My Drive/archiven/star-wars/0010/008.jpg' -> '/content/dataset/star-wars/0010/008.jpg'\n",
            "'/content/drive/My Drive/archiven/star-wars/0008' -> '/content/dataset/star-wars/0008'\n",
            "'/content/drive/My Drive/archiven/star-wars/0008/006.jpg' -> '/content/dataset/star-wars/0008/006.jpg'\n",
            "'/content/drive/My Drive/archiven/star-wars/0008/003.jpg' -> '/content/dataset/star-wars/0008/003.jpg'\n",
            "'/content/drive/My Drive/archiven/star-wars/0008/002.jpg' -> '/content/dataset/star-wars/0008/002.jpg'\n",
            "'/content/drive/My Drive/archiven/star-wars/0008/007.jpg' -> '/content/dataset/star-wars/0008/007.jpg'\n",
            "'/content/drive/My Drive/archiven/star-wars/0008/008.jpg' -> '/content/dataset/star-wars/0008/008.jpg'\n",
            "'/content/drive/My Drive/archiven/star-wars/0008/004.jpg' -> '/content/dataset/star-wars/0008/004.jpg'\n",
            "'/content/drive/My Drive/archiven/star-wars/0008/001.jpg' -> '/content/dataset/star-wars/0008/001.jpg'\n",
            "'/content/drive/My Drive/archiven/star-wars/0008/005.jpg' -> '/content/dataset/star-wars/0008/005.jpg'\n",
            "'/content/drive/My Drive/archiven/star-wars/0009' -> '/content/dataset/star-wars/0009'\n",
            "'/content/drive/My Drive/archiven/star-wars/0009/001.jpg' -> '/content/dataset/star-wars/0009/001.jpg'\n",
            "'/content/drive/My Drive/archiven/star-wars/0009/002.jpg' -> '/content/dataset/star-wars/0009/002.jpg'\n",
            "'/content/drive/My Drive/archiven/star-wars/0009/006.jpg' -> '/content/dataset/star-wars/0009/006.jpg'\n",
            "'/content/drive/My Drive/archiven/star-wars/0009/007.jpg' -> '/content/dataset/star-wars/0009/007.jpg'\n",
            "'/content/drive/My Drive/archiven/star-wars/0009/008.jpg' -> '/content/dataset/star-wars/0009/008.jpg'\n",
            "'/content/drive/My Drive/archiven/star-wars/0009/004.jpg' -> '/content/dataset/star-wars/0009/004.jpg'\n",
            "'/content/drive/My Drive/archiven/star-wars/0009/003.jpg' -> '/content/dataset/star-wars/0009/003.jpg'\n",
            "'/content/drive/My Drive/archiven/star-wars/0009/005.jpg' -> '/content/dataset/star-wars/0009/005.jpg'\n",
            "'/content/drive/My Drive/archiven/star-wars/0011' -> '/content/dataset/star-wars/0011'\n",
            "'/content/drive/My Drive/archiven/star-wars/0011/002.jpg' -> '/content/dataset/star-wars/0011/002.jpg'\n",
            "'/content/drive/My Drive/archiven/star-wars/0011/008.jpg' -> '/content/dataset/star-wars/0011/008.jpg'\n",
            "'/content/drive/My Drive/archiven/star-wars/0011/006.jpg' -> '/content/dataset/star-wars/0011/006.jpg'\n",
            "'/content/drive/My Drive/archiven/star-wars/0011/003.jpg' -> '/content/dataset/star-wars/0011/003.jpg'\n",
            "'/content/drive/My Drive/archiven/star-wars/0011/001.jpg' -> '/content/dataset/star-wars/0011/001.jpg'\n",
            "'/content/drive/My Drive/archiven/star-wars/0011/007.jpg' -> '/content/dataset/star-wars/0011/007.jpg'\n",
            "'/content/drive/My Drive/archiven/star-wars/0011/004.jpg' -> '/content/dataset/star-wars/0011/004.jpg'\n",
            "'/content/drive/My Drive/archiven/star-wars/0011/005.jpg' -> '/content/dataset/star-wars/0011/005.jpg'\n",
            "'/content/drive/My Drive/archiven/star-wars/0007' -> '/content/dataset/star-wars/0007'\n",
            "'/content/drive/My Drive/archiven/star-wars/0007/004.jpg' -> '/content/dataset/star-wars/0007/004.jpg'\n",
            "'/content/drive/My Drive/archiven/star-wars/0007/003.jpg' -> '/content/dataset/star-wars/0007/003.jpg'\n",
            "'/content/drive/My Drive/archiven/star-wars/0007/001.jpg' -> '/content/dataset/star-wars/0007/001.jpg'\n",
            "'/content/drive/My Drive/archiven/star-wars/0007/002.jpg' -> '/content/dataset/star-wars/0007/002.jpg'\n",
            "'/content/drive/My Drive/archiven/star-wars/0007/006.jpg' -> '/content/dataset/star-wars/0007/006.jpg'\n",
            "'/content/drive/My Drive/archiven/star-wars/0007/008.jpg' -> '/content/dataset/star-wars/0007/008.jpg'\n",
            "'/content/drive/My Drive/archiven/star-wars/0007/005.jpg' -> '/content/dataset/star-wars/0007/005.jpg'\n",
            "'/content/drive/My Drive/archiven/star-wars/0007/007.jpg' -> '/content/dataset/star-wars/0007/007.jpg'\n",
            "'/content/drive/My Drive/archiven/star-wars/0006' -> '/content/dataset/star-wars/0006'\n",
            "'/content/drive/My Drive/archiven/star-wars/0006/002.jpg' -> '/content/dataset/star-wars/0006/002.jpg'\n",
            "'/content/drive/My Drive/archiven/star-wars/0006/001.jpg' -> '/content/dataset/star-wars/0006/001.jpg'\n",
            "'/content/drive/My Drive/archiven/star-wars/0006/010.jpg' -> '/content/dataset/star-wars/0006/010.jpg'\n",
            "'/content/drive/My Drive/archiven/star-wars/0006/004.jpg' -> '/content/dataset/star-wars/0006/004.jpg'\n",
            "'/content/drive/My Drive/archiven/star-wars/0006/003.jpg' -> '/content/dataset/star-wars/0006/003.jpg'\n",
            "'/content/drive/My Drive/archiven/star-wars/0006/006.jpg' -> '/content/dataset/star-wars/0006/006.jpg'\n",
            "'/content/drive/My Drive/archiven/star-wars/0006/009.jpg' -> '/content/dataset/star-wars/0006/009.jpg'\n",
            "'/content/drive/My Drive/archiven/star-wars/0006/007.jpg' -> '/content/dataset/star-wars/0006/007.jpg'\n",
            "'/content/drive/My Drive/archiven/star-wars/0006/005.jpg' -> '/content/dataset/star-wars/0006/005.jpg'\n",
            "'/content/drive/My Drive/archiven/star-wars/0006/008.jpg' -> '/content/dataset/star-wars/0006/008.jpg'\n",
            "'/content/drive/My Drive/archiven/star-wars/0005' -> '/content/dataset/star-wars/0005'\n",
            "'/content/drive/My Drive/archiven/star-wars/0005/003.jpg' -> '/content/dataset/star-wars/0005/003.jpg'\n",
            "'/content/drive/My Drive/archiven/star-wars/0005/002.jpg' -> '/content/dataset/star-wars/0005/002.jpg'\n",
            "'/content/drive/My Drive/archiven/star-wars/0005/004.jpg' -> '/content/dataset/star-wars/0005/004.jpg'\n",
            "'/content/drive/My Drive/archiven/star-wars/0005/001.jpg' -> '/content/dataset/star-wars/0005/001.jpg'\n",
            "'/content/drive/My Drive/archiven/star-wars/0005/008.jpg' -> '/content/dataset/star-wars/0005/008.jpg'\n",
            "'/content/drive/My Drive/archiven/star-wars/0005/005.jpg' -> '/content/dataset/star-wars/0005/005.jpg'\n",
            "'/content/drive/My Drive/archiven/star-wars/0005/012.jpg' -> '/content/dataset/star-wars/0005/012.jpg'\n",
            "'/content/drive/My Drive/archiven/star-wars/0005/011.jpg' -> '/content/dataset/star-wars/0005/011.jpg'\n",
            "'/content/drive/My Drive/archiven/star-wars/0005/006.jpg' -> '/content/dataset/star-wars/0005/006.jpg'\n",
            "'/content/drive/My Drive/archiven/star-wars/0005/014.jpg' -> '/content/dataset/star-wars/0005/014.jpg'\n",
            "'/content/drive/My Drive/archiven/star-wars/0005/009.jpg' -> '/content/dataset/star-wars/0005/009.jpg'\n",
            "'/content/drive/My Drive/archiven/star-wars/0005/010.jpg' -> '/content/dataset/star-wars/0005/010.jpg'\n",
            "'/content/drive/My Drive/archiven/star-wars/0005/007.jpg' -> '/content/dataset/star-wars/0005/007.jpg'\n",
            "'/content/drive/My Drive/archiven/star-wars/0005/013.jpg' -> '/content/dataset/star-wars/0005/013.jpg'\n",
            "'/content/drive/My Drive/archiven/star-wars/0004' -> '/content/dataset/star-wars/0004'\n",
            "'/content/drive/My Drive/archiven/star-wars/0004/002.jpg' -> '/content/dataset/star-wars/0004/002.jpg'\n",
            "'/content/drive/My Drive/archiven/star-wars/0004/001.jpg' -> '/content/dataset/star-wars/0004/001.jpg'\n",
            "'/content/drive/My Drive/archiven/star-wars/0004/003.jpg' -> '/content/dataset/star-wars/0004/003.jpg'\n",
            "'/content/drive/My Drive/archiven/star-wars/0004/004.jpg' -> '/content/dataset/star-wars/0004/004.jpg'\n",
            "'/content/drive/My Drive/archiven/star-wars/0004/012.jpg' -> '/content/dataset/star-wars/0004/012.jpg'\n",
            "'/content/drive/My Drive/archiven/star-wars/0004/009.jpg' -> '/content/dataset/star-wars/0004/009.jpg'\n",
            "'/content/drive/My Drive/archiven/star-wars/0004/006.jpg' -> '/content/dataset/star-wars/0004/006.jpg'\n",
            "'/content/drive/My Drive/archiven/star-wars/0004/005.jpg' -> '/content/dataset/star-wars/0004/005.jpg'\n",
            "'/content/drive/My Drive/archiven/star-wars/0004/008.jpg' -> '/content/dataset/star-wars/0004/008.jpg'\n",
            "'/content/drive/My Drive/archiven/star-wars/0004/011.jpg' -> '/content/dataset/star-wars/0004/011.jpg'\n",
            "'/content/drive/My Drive/archiven/star-wars/0004/007.jpg' -> '/content/dataset/star-wars/0004/007.jpg'\n",
            "'/content/drive/My Drive/archiven/star-wars/0004/013.jpg' -> '/content/dataset/star-wars/0004/013.jpg'\n",
            "'/content/drive/My Drive/archiven/star-wars/0004/010.jpg' -> '/content/dataset/star-wars/0004/010.jpg'\n",
            "'/content/drive/My Drive/archiven/star-wars/0003' -> '/content/dataset/star-wars/0003'\n",
            "'/content/drive/My Drive/archiven/star-wars/0003/005.jpg' -> '/content/dataset/star-wars/0003/005.jpg'\n",
            "'/content/drive/My Drive/archiven/star-wars/0003/003.jpg' -> '/content/dataset/star-wars/0003/003.jpg'\n",
            "'/content/drive/My Drive/archiven/star-wars/0003/002.jpg' -> '/content/dataset/star-wars/0003/002.jpg'\n",
            "'/content/drive/My Drive/archiven/star-wars/0003/004.jpg' -> '/content/dataset/star-wars/0003/004.jpg'\n",
            "'/content/drive/My Drive/archiven/star-wars/0003/001.jpg' -> '/content/dataset/star-wars/0003/001.jpg'\n",
            "'/content/drive/My Drive/archiven/star-wars/0003/006.jpg' -> '/content/dataset/star-wars/0003/006.jpg'\n",
            "'/content/drive/My Drive/archiven/star-wars/0003/009.jpg' -> '/content/dataset/star-wars/0003/009.jpg'\n",
            "'/content/drive/My Drive/archiven/star-wars/0003/007.jpg' -> '/content/dataset/star-wars/0003/007.jpg'\n",
            "'/content/drive/My Drive/archiven/star-wars/0003/010.jpg' -> '/content/dataset/star-wars/0003/010.jpg'\n",
            "'/content/drive/My Drive/archiven/star-wars/0003/012.jpg' -> '/content/dataset/star-wars/0003/012.jpg'\n",
            "'/content/drive/My Drive/archiven/star-wars/0003/011.jpg' -> '/content/dataset/star-wars/0003/011.jpg'\n",
            "'/content/drive/My Drive/archiven/star-wars/0003/008.jpg' -> '/content/dataset/star-wars/0003/008.jpg'\n",
            "'/content/drive/My Drive/archiven/star-wars/0002' -> '/content/dataset/star-wars/0002'\n",
            "'/content/drive/My Drive/archiven/star-wars/0002/002.jpg' -> '/content/dataset/star-wars/0002/002.jpg'\n",
            "'/content/drive/My Drive/archiven/star-wars/0002/001.jpg' -> '/content/dataset/star-wars/0002/001.jpg'\n",
            "'/content/drive/My Drive/archiven/star-wars/0002/004.jpg' -> '/content/dataset/star-wars/0002/004.jpg'\n",
            "'/content/drive/My Drive/archiven/star-wars/0002/003.jpg' -> '/content/dataset/star-wars/0002/003.jpg'\n",
            "'/content/drive/My Drive/archiven/star-wars/0002/006.jpg' -> '/content/dataset/star-wars/0002/006.jpg'\n",
            "'/content/drive/My Drive/archiven/star-wars/0002/008.jpg' -> '/content/dataset/star-wars/0002/008.jpg'\n",
            "'/content/drive/My Drive/archiven/star-wars/0002/010.jpg' -> '/content/dataset/star-wars/0002/010.jpg'\n",
            "'/content/drive/My Drive/archiven/star-wars/0002/011.jpg' -> '/content/dataset/star-wars/0002/011.jpg'\n",
            "'/content/drive/My Drive/archiven/star-wars/0002/009.jpg' -> '/content/dataset/star-wars/0002/009.jpg'\n",
            "'/content/drive/My Drive/archiven/star-wars/0002/007.jpg' -> '/content/dataset/star-wars/0002/007.jpg'\n",
            "'/content/drive/My Drive/archiven/star-wars/0002/005.jpg' -> '/content/dataset/star-wars/0002/005.jpg'\n",
            "'/content/drive/My Drive/archiven/star-wars/0002/012.jpg' -> '/content/dataset/star-wars/0002/012.jpg'\n",
            "'/content/drive/My Drive/archiven/star-wars/0001' -> '/content/dataset/star-wars/0001'\n",
            "'/content/drive/My Drive/archiven/star-wars/0001/001.jpg' -> '/content/dataset/star-wars/0001/001.jpg'\n",
            "'/content/drive/My Drive/archiven/star-wars/0001/002.jpg' -> '/content/dataset/star-wars/0001/002.jpg'\n",
            "'/content/drive/My Drive/archiven/star-wars/0001/005.jpg' -> '/content/dataset/star-wars/0001/005.jpg'\n",
            "'/content/drive/My Drive/archiven/star-wars/0001/012.jpg' -> '/content/dataset/star-wars/0001/012.jpg'\n",
            "'/content/drive/My Drive/archiven/star-wars/0001/004.jpg' -> '/content/dataset/star-wars/0001/004.jpg'\n",
            "'/content/drive/My Drive/archiven/star-wars/0001/007.jpg' -> '/content/dataset/star-wars/0001/007.jpg'\n",
            "'/content/drive/My Drive/archiven/star-wars/0001/008.jpg' -> '/content/dataset/star-wars/0001/008.jpg'\n",
            "'/content/drive/My Drive/archiven/star-wars/0001/006.jpg' -> '/content/dataset/star-wars/0001/006.jpg'\n",
            "'/content/drive/My Drive/archiven/star-wars/0001/010.jpg' -> '/content/dataset/star-wars/0001/010.jpg'\n",
            "'/content/drive/My Drive/archiven/star-wars/0001/011.jpg' -> '/content/dataset/star-wars/0001/011.jpg'\n",
            "'/content/drive/My Drive/archiven/star-wars/0001/009.jpg' -> '/content/dataset/star-wars/0001/009.jpg'\n",
            "'/content/drive/My Drive/archiven/star-wars/0001/003.jpg' -> '/content/dataset/star-wars/0001/003.jpg'\n",
            "'/content/drive/My Drive/archiven/marvel' -> '/content/dataset/marvel'\n",
            "'/content/drive/My Drive/archiven/marvel/0015' -> '/content/dataset/marvel/0015'\n",
            "'/content/drive/My Drive/archiven/marvel/0015/011.jpg' -> '/content/dataset/marvel/0015/011.jpg'\n",
            "'/content/drive/My Drive/archiven/marvel/0015/008.jpg' -> '/content/dataset/marvel/0015/008.jpg'\n",
            "'/content/drive/My Drive/archiven/marvel/0015/012.jpg' -> '/content/dataset/marvel/0015/012.jpg'\n",
            "'/content/drive/My Drive/archiven/marvel/0015/004.jpg' -> '/content/dataset/marvel/0015/004.jpg'\n",
            "'/content/drive/My Drive/archiven/marvel/0015/010.jpg' -> '/content/dataset/marvel/0015/010.jpg'\n",
            "'/content/drive/My Drive/archiven/marvel/0015/003.jpg' -> '/content/dataset/marvel/0015/003.jpg'\n",
            "'/content/drive/My Drive/archiven/marvel/0015/002.jpg' -> '/content/dataset/marvel/0015/002.jpg'\n",
            "'/content/drive/My Drive/archiven/marvel/0015/007.jpg' -> '/content/dataset/marvel/0015/007.jpg'\n",
            "'/content/drive/My Drive/archiven/marvel/0015/006.jpg' -> '/content/dataset/marvel/0015/006.jpg'\n",
            "'/content/drive/My Drive/archiven/marvel/0015/005.jpg' -> '/content/dataset/marvel/0015/005.jpg'\n",
            "'/content/drive/My Drive/archiven/marvel/0015/009.jpg' -> '/content/dataset/marvel/0015/009.jpg'\n",
            "'/content/drive/My Drive/archiven/marvel/0015/001.jpg' -> '/content/dataset/marvel/0015/001.jpg'\n",
            "'/content/drive/My Drive/archiven/marvel/0016' -> '/content/dataset/marvel/0016'\n",
            "'/content/drive/My Drive/archiven/marvel/0016/001.jpg' -> '/content/dataset/marvel/0016/001.jpg'\n",
            "'/content/drive/My Drive/archiven/marvel/0016/005.jpg' -> '/content/dataset/marvel/0016/005.jpg'\n",
            "'/content/drive/My Drive/archiven/marvel/0016/003.jpg' -> '/content/dataset/marvel/0016/003.jpg'\n",
            "'/content/drive/My Drive/archiven/marvel/0016/009.jpg' -> '/content/dataset/marvel/0016/009.jpg'\n",
            "'/content/drive/My Drive/archiven/marvel/0016/002.jpg' -> '/content/dataset/marvel/0016/002.jpg'\n",
            "'/content/drive/My Drive/archiven/marvel/0016/010.jpg' -> '/content/dataset/marvel/0016/010.jpg'\n",
            "'/content/drive/My Drive/archiven/marvel/0016/007.jpg' -> '/content/dataset/marvel/0016/007.jpg'\n",
            "'/content/drive/My Drive/archiven/marvel/0016/006.jpg' -> '/content/dataset/marvel/0016/006.jpg'\n",
            "'/content/drive/My Drive/archiven/marvel/0016/011.jpg' -> '/content/dataset/marvel/0016/011.jpg'\n",
            "'/content/drive/My Drive/archiven/marvel/0016/012.jpg' -> '/content/dataset/marvel/0016/012.jpg'\n",
            "'/content/drive/My Drive/archiven/marvel/0016/004.jpg' -> '/content/dataset/marvel/0016/004.jpg'\n",
            "'/content/drive/My Drive/archiven/marvel/0016/008.jpg' -> '/content/dataset/marvel/0016/008.jpg'\n",
            "'/content/drive/My Drive/archiven/marvel/0017' -> '/content/dataset/marvel/0017'\n",
            "'/content/drive/My Drive/archiven/marvel/0017/002.jpg' -> '/content/dataset/marvel/0017/002.jpg'\n",
            "'/content/drive/My Drive/archiven/marvel/0017/001.jpg' -> '/content/dataset/marvel/0017/001.jpg'\n",
            "'/content/drive/My Drive/archiven/marvel/0017/004.jpg' -> '/content/dataset/marvel/0017/004.jpg'\n",
            "'/content/drive/My Drive/archiven/marvel/0017/007.jpg' -> '/content/dataset/marvel/0017/007.jpg'\n",
            "'/content/drive/My Drive/archiven/marvel/0017/010.jpg' -> '/content/dataset/marvel/0017/010.jpg'\n",
            "'/content/drive/My Drive/archiven/marvel/0017/009.jpg' -> '/content/dataset/marvel/0017/009.jpg'\n",
            "'/content/drive/My Drive/archiven/marvel/0017/008.jpg' -> '/content/dataset/marvel/0017/008.jpg'\n",
            "'/content/drive/My Drive/archiven/marvel/0017/005.jpg' -> '/content/dataset/marvel/0017/005.jpg'\n",
            "'/content/drive/My Drive/archiven/marvel/0017/011.jpg' -> '/content/dataset/marvel/0017/011.jpg'\n",
            "'/content/drive/My Drive/archiven/marvel/0017/003.jpg' -> '/content/dataset/marvel/0017/003.jpg'\n",
            "'/content/drive/My Drive/archiven/marvel/0017/012.jpg' -> '/content/dataset/marvel/0017/012.jpg'\n",
            "'/content/drive/My Drive/archiven/marvel/0017/006.jpg' -> '/content/dataset/marvel/0017/006.jpg'\n",
            "'/content/drive/My Drive/archiven/marvel/0014' -> '/content/dataset/marvel/0014'\n",
            "'/content/drive/My Drive/archiven/marvel/0014/010.jpg' -> '/content/dataset/marvel/0014/010.jpg'\n",
            "'/content/drive/My Drive/archiven/marvel/0014/011.jpg' -> '/content/dataset/marvel/0014/011.jpg'\n",
            "'/content/drive/My Drive/archiven/marvel/0014/007.jpg' -> '/content/dataset/marvel/0014/007.jpg'\n",
            "'/content/drive/My Drive/archiven/marvel/0014/008.jpg' -> '/content/dataset/marvel/0014/008.jpg'\n",
            "'/content/drive/My Drive/archiven/marvel/0014/003.jpg' -> '/content/dataset/marvel/0014/003.jpg'\n",
            "'/content/drive/My Drive/archiven/marvel/0014/005.jpg' -> '/content/dataset/marvel/0014/005.jpg'\n",
            "'/content/drive/My Drive/archiven/marvel/0014/001.jpg' -> '/content/dataset/marvel/0014/001.jpg'\n",
            "'/content/drive/My Drive/archiven/marvel/0014/012.jpg' -> '/content/dataset/marvel/0014/012.jpg'\n",
            "'/content/drive/My Drive/archiven/marvel/0014/006.jpg' -> '/content/dataset/marvel/0014/006.jpg'\n",
            "'/content/drive/My Drive/archiven/marvel/0014/004.jpg' -> '/content/dataset/marvel/0014/004.jpg'\n",
            "'/content/drive/My Drive/archiven/marvel/0014/002.jpg' -> '/content/dataset/marvel/0014/002.jpg'\n",
            "'/content/drive/My Drive/archiven/marvel/0014/009.jpg' -> '/content/dataset/marvel/0014/009.jpg'\n",
            "'/content/drive/My Drive/archiven/marvel/0013' -> '/content/dataset/marvel/0013'\n",
            "'/content/drive/My Drive/archiven/marvel/0013/003.jpg' -> '/content/dataset/marvel/0013/003.jpg'\n",
            "'/content/drive/My Drive/archiven/marvel/0013/001.jpg' -> '/content/dataset/marvel/0013/001.jpg'\n",
            "'/content/drive/My Drive/archiven/marvel/0013/004.jpg' -> '/content/dataset/marvel/0013/004.jpg'\n",
            "'/content/drive/My Drive/archiven/marvel/0013/005.jpg' -> '/content/dataset/marvel/0013/005.jpg'\n",
            "'/content/drive/My Drive/archiven/marvel/0013/002.jpg' -> '/content/dataset/marvel/0013/002.jpg'\n",
            "'/content/drive/My Drive/archiven/marvel/0013/009.jpg' -> '/content/dataset/marvel/0013/009.jpg'\n",
            "'/content/drive/My Drive/archiven/marvel/0013/006.jpg' -> '/content/dataset/marvel/0013/006.jpg'\n",
            "'/content/drive/My Drive/archiven/marvel/0013/007.jpg' -> '/content/dataset/marvel/0013/007.jpg'\n",
            "'/content/drive/My Drive/archiven/marvel/0013/008.jpg' -> '/content/dataset/marvel/0013/008.jpg'\n",
            "'/content/drive/My Drive/archiven/marvel/0013/012.jpg' -> '/content/dataset/marvel/0013/012.jpg'\n",
            "'/content/drive/My Drive/archiven/marvel/0013/010.jpg' -> '/content/dataset/marvel/0013/010.jpg'\n",
            "'/content/drive/My Drive/archiven/marvel/0013/011.jpg' -> '/content/dataset/marvel/0013/011.jpg'\n",
            "'/content/drive/My Drive/archiven/marvel/0012' -> '/content/dataset/marvel/0012'\n",
            "'/content/drive/My Drive/archiven/marvel/0012/003.jpg' -> '/content/dataset/marvel/0012/003.jpg'\n",
            "'/content/drive/My Drive/archiven/marvel/0012/002.jpg' -> '/content/dataset/marvel/0012/002.jpg'\n",
            "'/content/drive/My Drive/archiven/marvel/0012/005.jpg' -> '/content/dataset/marvel/0012/005.jpg'\n",
            "'/content/drive/My Drive/archiven/marvel/0012/001.jpg' -> '/content/dataset/marvel/0012/001.jpg'\n",
            "'/content/drive/My Drive/archiven/marvel/0012/006.jpg' -> '/content/dataset/marvel/0012/006.jpg'\n",
            "'/content/drive/My Drive/archiven/marvel/0012/004.jpg' -> '/content/dataset/marvel/0012/004.jpg'\n",
            "'/content/drive/My Drive/archiven/marvel/0012/009.jpg' -> '/content/dataset/marvel/0012/009.jpg'\n",
            "'/content/drive/My Drive/archiven/marvel/0012/008.jpg' -> '/content/dataset/marvel/0012/008.jpg'\n",
            "'/content/drive/My Drive/archiven/marvel/0012/010.jpg' -> '/content/dataset/marvel/0012/010.jpg'\n",
            "'/content/drive/My Drive/archiven/marvel/0012/012.jpg' -> '/content/dataset/marvel/0012/012.jpg'\n",
            "'/content/drive/My Drive/archiven/marvel/0012/007.jpg' -> '/content/dataset/marvel/0012/007.jpg'\n",
            "'/content/drive/My Drive/archiven/marvel/0012/011.jpg' -> '/content/dataset/marvel/0012/011.jpg'\n",
            "'/content/drive/My Drive/archiven/marvel/0009' -> '/content/dataset/marvel/0009'\n",
            "'/content/drive/My Drive/archiven/marvel/0009/002.jpg' -> '/content/dataset/marvel/0009/002.jpg'\n",
            "'/content/drive/My Drive/archiven/marvel/0009/001.jpg' -> '/content/dataset/marvel/0009/001.jpg'\n",
            "'/content/drive/My Drive/archiven/marvel/0009/004.jpg' -> '/content/dataset/marvel/0009/004.jpg'\n",
            "'/content/drive/My Drive/archiven/marvel/0009/007.jpg' -> '/content/dataset/marvel/0009/007.jpg'\n",
            "'/content/drive/My Drive/archiven/marvel/0009/006.jpg' -> '/content/dataset/marvel/0009/006.jpg'\n",
            "'/content/drive/My Drive/archiven/marvel/0009/010.jpg' -> '/content/dataset/marvel/0009/010.jpg'\n",
            "'/content/drive/My Drive/archiven/marvel/0009/012.jpg' -> '/content/dataset/marvel/0009/012.jpg'\n",
            "'/content/drive/My Drive/archiven/marvel/0009/014.jpg' -> '/content/dataset/marvel/0009/014.jpg'\n",
            "'/content/drive/My Drive/archiven/marvel/0009/013.jpg' -> '/content/dataset/marvel/0009/013.jpg'\n",
            "'/content/drive/My Drive/archiven/marvel/0009/011.jpg' -> '/content/dataset/marvel/0009/011.jpg'\n",
            "'/content/drive/My Drive/archiven/marvel/0009/008.jpg' -> '/content/dataset/marvel/0009/008.jpg'\n",
            "'/content/drive/My Drive/archiven/marvel/0009/009.jpg' -> '/content/dataset/marvel/0009/009.jpg'\n",
            "'/content/drive/My Drive/archiven/marvel/0009/003.jpg' -> '/content/dataset/marvel/0009/003.jpg'\n",
            "'/content/drive/My Drive/archiven/marvel/0009/005.jpg' -> '/content/dataset/marvel/0009/005.jpg'\n",
            "'/content/drive/My Drive/archiven/marvel/0010' -> '/content/dataset/marvel/0010'\n",
            "'/content/drive/My Drive/archiven/marvel/0010/001.jpg' -> '/content/dataset/marvel/0010/001.jpg'\n",
            "'/content/drive/My Drive/archiven/marvel/0010/002.jpg' -> '/content/dataset/marvel/0010/002.jpg'\n",
            "'/content/drive/My Drive/archiven/marvel/0010/012.jpg' -> '/content/dataset/marvel/0010/012.jpg'\n",
            "'/content/drive/My Drive/archiven/marvel/0010/009.jpg' -> '/content/dataset/marvel/0010/009.jpg'\n",
            "'/content/drive/My Drive/archiven/marvel/0010/007.jpg' -> '/content/dataset/marvel/0010/007.jpg'\n",
            "'/content/drive/My Drive/archiven/marvel/0010/006.jpg' -> '/content/dataset/marvel/0010/006.jpg'\n",
            "'/content/drive/My Drive/archiven/marvel/0010/005.jpg' -> '/content/dataset/marvel/0010/005.jpg'\n",
            "'/content/drive/My Drive/archiven/marvel/0010/011.jpg' -> '/content/dataset/marvel/0010/011.jpg'\n",
            "'/content/drive/My Drive/archiven/marvel/0010/010.jpg' -> '/content/dataset/marvel/0010/010.jpg'\n",
            "'/content/drive/My Drive/archiven/marvel/0010/013.jpg' -> '/content/dataset/marvel/0010/013.jpg'\n",
            "'/content/drive/My Drive/archiven/marvel/0010/008.jpg' -> '/content/dataset/marvel/0010/008.jpg'\n",
            "'/content/drive/My Drive/archiven/marvel/0010/003.jpg' -> '/content/dataset/marvel/0010/003.jpg'\n",
            "'/content/drive/My Drive/archiven/marvel/0010/004.jpg' -> '/content/dataset/marvel/0010/004.jpg'\n",
            "'/content/drive/My Drive/archiven/marvel/0010/014.jpg' -> '/content/dataset/marvel/0010/014.jpg'\n",
            "'/content/drive/My Drive/archiven/marvel/0011' -> '/content/dataset/marvel/0011'\n",
            "'/content/drive/My Drive/archiven/marvel/0011/003.jpg' -> '/content/dataset/marvel/0011/003.jpg'\n",
            "'/content/drive/My Drive/archiven/marvel/0011/001.jpg' -> '/content/dataset/marvel/0011/001.jpg'\n",
            "'/content/drive/My Drive/archiven/marvel/0011/002.jpg' -> '/content/dataset/marvel/0011/002.jpg'\n",
            "'/content/drive/My Drive/archiven/marvel/0011/004.jpg' -> '/content/dataset/marvel/0011/004.jpg'\n",
            "'/content/drive/My Drive/archiven/marvel/0011/008.jpg' -> '/content/dataset/marvel/0011/008.jpg'\n",
            "'/content/drive/My Drive/archiven/marvel/0011/012.jpg' -> '/content/dataset/marvel/0011/012.jpg'\n",
            "'/content/drive/My Drive/archiven/marvel/0011/007.jpg' -> '/content/dataset/marvel/0011/007.jpg'\n",
            "'/content/drive/My Drive/archiven/marvel/0011/005.jpg' -> '/content/dataset/marvel/0011/005.jpg'\n",
            "'/content/drive/My Drive/archiven/marvel/0011/010.jpg' -> '/content/dataset/marvel/0011/010.jpg'\n",
            "'/content/drive/My Drive/archiven/marvel/0011/009.jpg' -> '/content/dataset/marvel/0011/009.jpg'\n",
            "'/content/drive/My Drive/archiven/marvel/0011/006.jpg' -> '/content/dataset/marvel/0011/006.jpg'\n",
            "'/content/drive/My Drive/archiven/marvel/0011/011.jpg' -> '/content/dataset/marvel/0011/011.jpg'\n",
            "'/content/drive/My Drive/archiven/marvel/0008' -> '/content/dataset/marvel/0008'\n",
            "'/content/drive/My Drive/archiven/marvel/0008/001.jpg' -> '/content/dataset/marvel/0008/001.jpg'\n",
            "'/content/drive/My Drive/archiven/marvel/0008/002.jpg' -> '/content/dataset/marvel/0008/002.jpg'\n",
            "'/content/drive/My Drive/archiven/marvel/0008/003.jpg' -> '/content/dataset/marvel/0008/003.jpg'\n",
            "'/content/drive/My Drive/archiven/marvel/0008/010.jpg' -> '/content/dataset/marvel/0008/010.jpg'\n",
            "'/content/drive/My Drive/archiven/marvel/0008/005.jpg' -> '/content/dataset/marvel/0008/005.jpg'\n",
            "'/content/drive/My Drive/archiven/marvel/0008/008.jpg' -> '/content/dataset/marvel/0008/008.jpg'\n",
            "'/content/drive/My Drive/archiven/marvel/0008/004.jpg' -> '/content/dataset/marvel/0008/004.jpg'\n",
            "'/content/drive/My Drive/archiven/marvel/0008/013.jpg' -> '/content/dataset/marvel/0008/013.jpg'\n",
            "'/content/drive/My Drive/archiven/marvel/0008/009.jpg' -> '/content/dataset/marvel/0008/009.jpg'\n",
            "'/content/drive/My Drive/archiven/marvel/0008/012.jpg' -> '/content/dataset/marvel/0008/012.jpg'\n",
            "'/content/drive/My Drive/archiven/marvel/0008/014.jpg' -> '/content/dataset/marvel/0008/014.jpg'\n",
            "'/content/drive/My Drive/archiven/marvel/0008/007.jpg' -> '/content/dataset/marvel/0008/007.jpg'\n",
            "'/content/drive/My Drive/archiven/marvel/0008/011.jpg' -> '/content/dataset/marvel/0008/011.jpg'\n",
            "'/content/drive/My Drive/archiven/marvel/0008/006.jpg' -> '/content/dataset/marvel/0008/006.jpg'\n",
            "'/content/drive/My Drive/archiven/marvel/0007' -> '/content/dataset/marvel/0007'\n",
            "'/content/drive/My Drive/archiven/marvel/0007/005.jpg' -> '/content/dataset/marvel/0007/005.jpg'\n",
            "'/content/drive/My Drive/archiven/marvel/0007/001.jpg' -> '/content/dataset/marvel/0007/001.jpg'\n",
            "'/content/drive/My Drive/archiven/marvel/0007/004.jpg' -> '/content/dataset/marvel/0007/004.jpg'\n",
            "'/content/drive/My Drive/archiven/marvel/0007/006.jpg' -> '/content/dataset/marvel/0007/006.jpg'\n",
            "'/content/drive/My Drive/archiven/marvel/0007/002.jpg' -> '/content/dataset/marvel/0007/002.jpg'\n",
            "'/content/drive/My Drive/archiven/marvel/0007/008.jpg' -> '/content/dataset/marvel/0007/008.jpg'\n",
            "'/content/drive/My Drive/archiven/marvel/0007/009.jpg' -> '/content/dataset/marvel/0007/009.jpg'\n",
            "'/content/drive/My Drive/archiven/marvel/0007/003.jpg' -> '/content/dataset/marvel/0007/003.jpg'\n",
            "'/content/drive/My Drive/archiven/marvel/0007/007.jpg' -> '/content/dataset/marvel/0007/007.jpg'\n",
            "'/content/drive/My Drive/archiven/marvel/0005' -> '/content/dataset/marvel/0005'\n",
            "'/content/drive/My Drive/archiven/marvel/0005/002.jpg' -> '/content/dataset/marvel/0005/002.jpg'\n",
            "'/content/drive/My Drive/archiven/marvel/0005/003.jpg' -> '/content/dataset/marvel/0005/003.jpg'\n",
            "'/content/drive/My Drive/archiven/marvel/0005/004.jpg' -> '/content/dataset/marvel/0005/004.jpg'\n",
            "'/content/drive/My Drive/archiven/marvel/0005/001.jpg' -> '/content/dataset/marvel/0005/001.jpg'\n",
            "'/content/drive/My Drive/archiven/marvel/0005/009.jpg' -> '/content/dataset/marvel/0005/009.jpg'\n",
            "'/content/drive/My Drive/archiven/marvel/0005/008.jpg' -> '/content/dataset/marvel/0005/008.jpg'\n",
            "'/content/drive/My Drive/archiven/marvel/0005/007.jpg' -> '/content/dataset/marvel/0005/007.jpg'\n",
            "'/content/drive/My Drive/archiven/marvel/0005/005.jpg' -> '/content/dataset/marvel/0005/005.jpg'\n",
            "'/content/drive/My Drive/archiven/marvel/0005/006.jpg' -> '/content/dataset/marvel/0005/006.jpg'\n",
            "'/content/drive/My Drive/archiven/marvel/0006' -> '/content/dataset/marvel/0006'\n",
            "'/content/drive/My Drive/archiven/marvel/0006/001.jpg' -> '/content/dataset/marvel/0006/001.jpg'\n",
            "'/content/drive/My Drive/archiven/marvel/0006/008.jpg' -> '/content/dataset/marvel/0006/008.jpg'\n",
            "'/content/drive/My Drive/archiven/marvel/0006/005.jpg' -> '/content/dataset/marvel/0006/005.jpg'\n",
            "'/content/drive/My Drive/archiven/marvel/0006/006.jpg' -> '/content/dataset/marvel/0006/006.jpg'\n",
            "'/content/drive/My Drive/archiven/marvel/0006/002.jpg' -> '/content/dataset/marvel/0006/002.jpg'\n",
            "'/content/drive/My Drive/archiven/marvel/0006/004.jpg' -> '/content/dataset/marvel/0006/004.jpg'\n",
            "'/content/drive/My Drive/archiven/marvel/0006/003.jpg' -> '/content/dataset/marvel/0006/003.jpg'\n",
            "'/content/drive/My Drive/archiven/marvel/0006/007.jpg' -> '/content/dataset/marvel/0006/007.jpg'\n",
            "'/content/drive/My Drive/archiven/marvel/0006/009.jpg' -> '/content/dataset/marvel/0006/009.jpg'\n",
            "'/content/drive/My Drive/archiven/marvel/0003' -> '/content/dataset/marvel/0003'\n",
            "'/content/drive/My Drive/archiven/marvel/0003/006.jpg' -> '/content/dataset/marvel/0003/006.jpg'\n",
            "'/content/drive/My Drive/archiven/marvel/0003/002.jpg' -> '/content/dataset/marvel/0003/002.jpg'\n",
            "'/content/drive/My Drive/archiven/marvel/0003/008.jpg' -> '/content/dataset/marvel/0003/008.jpg'\n",
            "'/content/drive/My Drive/archiven/marvel/0003/009.jpg' -> '/content/dataset/marvel/0003/009.jpg'\n",
            "'/content/drive/My Drive/archiven/marvel/0003/004.jpg' -> '/content/dataset/marvel/0003/004.jpg'\n",
            "'/content/drive/My Drive/archiven/marvel/0003/007.jpg' -> '/content/dataset/marvel/0003/007.jpg'\n",
            "'/content/drive/My Drive/archiven/marvel/0003/005.jpg' -> '/content/dataset/marvel/0003/005.jpg'\n",
            "'/content/drive/My Drive/archiven/marvel/0003/003.jpg' -> '/content/dataset/marvel/0003/003.jpg'\n",
            "'/content/drive/My Drive/archiven/marvel/0003/001.jpg' -> '/content/dataset/marvel/0003/001.jpg'\n",
            "'/content/drive/My Drive/archiven/marvel/0003/010.jpg' -> '/content/dataset/marvel/0003/010.jpg'\n",
            "'/content/drive/My Drive/archiven/marvel/0002' -> '/content/dataset/marvel/0002'\n",
            "'/content/drive/My Drive/archiven/marvel/0002/003.jpg' -> '/content/dataset/marvel/0002/003.jpg'\n",
            "'/content/drive/My Drive/archiven/marvel/0002/001.jpg' -> '/content/dataset/marvel/0002/001.jpg'\n",
            "'/content/drive/My Drive/archiven/marvel/0002/006.jpg' -> '/content/dataset/marvel/0002/006.jpg'\n",
            "'/content/drive/My Drive/archiven/marvel/0002/005.jpg' -> '/content/dataset/marvel/0002/005.jpg'\n",
            "'/content/drive/My Drive/archiven/marvel/0002/002.jpg' -> '/content/dataset/marvel/0002/002.jpg'\n",
            "'/content/drive/My Drive/archiven/marvel/0002/004.jpg' -> '/content/dataset/marvel/0002/004.jpg'\n",
            "'/content/drive/My Drive/archiven/marvel/0002/008.jpg' -> '/content/dataset/marvel/0002/008.jpg'\n",
            "'/content/drive/My Drive/archiven/marvel/0002/010.jpg' -> '/content/dataset/marvel/0002/010.jpg'\n",
            "'/content/drive/My Drive/archiven/marvel/0002/007.jpg' -> '/content/dataset/marvel/0002/007.jpg'\n",
            "'/content/drive/My Drive/archiven/marvel/0002/009.jpg' -> '/content/dataset/marvel/0002/009.jpg'\n",
            "'/content/drive/My Drive/archiven/marvel/0004' -> '/content/dataset/marvel/0004'\n",
            "'/content/drive/My Drive/archiven/marvel/0004/010.jpg' -> '/content/dataset/marvel/0004/010.jpg'\n",
            "'/content/drive/My Drive/archiven/marvel/0004/008.jpg' -> '/content/dataset/marvel/0004/008.jpg'\n",
            "'/content/drive/My Drive/archiven/marvel/0004/002.jpg' -> '/content/dataset/marvel/0004/002.jpg'\n",
            "'/content/drive/My Drive/archiven/marvel/0004/004.jpg' -> '/content/dataset/marvel/0004/004.jpg'\n",
            "'/content/drive/My Drive/archiven/marvel/0004/001.jpg' -> '/content/dataset/marvel/0004/001.jpg'\n",
            "'/content/drive/My Drive/archiven/marvel/0004/009.jpg' -> '/content/dataset/marvel/0004/009.jpg'\n",
            "'/content/drive/My Drive/archiven/marvel/0004/003.jpg' -> '/content/dataset/marvel/0004/003.jpg'\n",
            "'/content/drive/My Drive/archiven/marvel/0004/007.jpg' -> '/content/dataset/marvel/0004/007.jpg'\n",
            "'/content/drive/My Drive/archiven/marvel/0004/006.jpg' -> '/content/dataset/marvel/0004/006.jpg'\n",
            "'/content/drive/My Drive/archiven/marvel/0004/005.jpg' -> '/content/dataset/marvel/0004/005.jpg'\n",
            "'/content/drive/My Drive/archiven/marvel/0001' -> '/content/dataset/marvel/0001'\n",
            "'/content/drive/My Drive/archiven/marvel/0001/003.jpg' -> '/content/dataset/marvel/0001/003.jpg'\n",
            "'/content/drive/My Drive/archiven/marvel/0001/002.jpg' -> '/content/dataset/marvel/0001/002.jpg'\n",
            "'/content/drive/My Drive/archiven/marvel/0001/001.jpg' -> '/content/dataset/marvel/0001/001.jpg'\n",
            "'/content/drive/My Drive/archiven/marvel/0001/010.jpg' -> '/content/dataset/marvel/0001/010.jpg'\n",
            "'/content/drive/My Drive/archiven/marvel/0001/004.jpg' -> '/content/dataset/marvel/0001/004.jpg'\n",
            "'/content/drive/My Drive/archiven/marvel/0001/008.jpg' -> '/content/dataset/marvel/0001/008.jpg'\n",
            "'/content/drive/My Drive/archiven/marvel/0001/009.jpg' -> '/content/dataset/marvel/0001/009.jpg'\n",
            "'/content/drive/My Drive/archiven/marvel/0001/005.jpg' -> '/content/dataset/marvel/0001/005.jpg'\n",
            "'/content/drive/My Drive/archiven/marvel/0001/007.jpg' -> '/content/dataset/marvel/0001/007.jpg'\n",
            "'/content/drive/My Drive/archiven/marvel/0001/006.jpg' -> '/content/dataset/marvel/0001/006.jpg'\n"
          ],
          "name": "stdout"
        }
      ]
    },
    {
      "cell_type": "code",
      "metadata": {
        "id": "8BxpLy1cdp36"
      },
      "source": [
        "from keras.preprocessing.image import ImageDataGenerator"
      ],
      "execution_count": 5,
      "outputs": []
    },
    {
      "cell_type": "code",
      "metadata": {
        "id": "rQUa0gD_dqAW"
      },
      "source": [
        "data_generator = ImageDataGenerator(rescale = 1/255.0, validation_split=0.20)"
      ],
      "execution_count": 29,
      "outputs": []
    },
    {
      "cell_type": "code",
      "metadata": {
        "id": "kQG4ybqVgnCx",
        "outputId": "b0640050-e343-4875-d9b5-92612f307dbf",
        "colab": {
          "base_uri": "https://localhost:8080/"
        }
      },
      "source": [
        "training_set  = data_generator.flow_from_directory('/content/dataset',subset= 'training', target_size = (224,224),class_mode='categorical',\n",
        "                                                   shuffle = True, seed=43, batch_size = 32)"
      ],
      "execution_count": 64,
      "outputs": [
        {
          "output_type": "stream",
          "text": [
            "Found 290 images belonging to 4 classes.\n"
          ],
          "name": "stdout"
        }
      ]
    },
    {
      "cell_type": "code",
      "metadata": {
        "id": "kDd5ADrIko3y",
        "outputId": "d803cb8b-bbfd-42ce-8c9c-13a75db6a4e2",
        "colab": {
          "base_uri": "https://localhost:8080/"
        }
      },
      "source": [
        "validation_set  = data_generator.flow_from_directory('/content/dataset',subset= 'validation', target_size = (224,224),class_mode='categorical',\n",
        "                                                     shuffle = True, seed=43, batch_size = 32)"
      ],
      "execution_count": 65,
      "outputs": [
        {
          "output_type": "stream",
          "text": [
            "Found 70 images belonging to 4 classes.\n"
          ],
          "name": "stdout"
        }
      ]
    },
    {
      "cell_type": "code",
      "metadata": {
        "id": "Z-F0hyDpUg7Q",
        "outputId": "dc31531d-6131-4050-9a19-6013a447d795",
        "colab": {
          "base_uri": "https://localhost:8080/",
          "height": 35
        }
      },
      "source": [
        "'''(X_train,y_train),(X_test,y_test)=cifar10.load_data()\n",
        "print('X_train shape:',X_train.shape)\n",
        "print(X_train.shape[0],'train samples')\n",
        "print(X_test.shape[0],'test samples')'''"
      ],
      "execution_count": 66,
      "outputs": [
        {
          "output_type": "execute_result",
          "data": {
            "application/vnd.google.colaboratory.intrinsic+json": {
              "type": "string"
            },
            "text/plain": [
              "\"(X_train,y_train),(X_test,y_test)=cifar10.load_data()\\nprint('X_train shape:',X_train.shape)\\nprint(X_train.shape[0],'train samples')\\nprint(X_test.shape[0],'test samples')\""
            ]
          },
          "metadata": {
            "tags": []
          },
          "execution_count": 66
        }
      ]
    },
    {
      "cell_type": "code",
      "metadata": {
        "id": "ioxrWSjIVEd2",
        "outputId": "efa7704c-4975-4f12-dc11-f5e1d3e07f10",
        "colab": {
          "base_uri": "https://localhost:8080/",
          "height": 53
        }
      },
      "source": [
        "'''Y_train=np_utils.to_categorical(y_train,NB_CLASSES)\n",
        "Y_test=np_utils.to_categorical(y_test,NB_CLASSES)\n",
        "X_train=X_train.astype('float32')\n",
        "X_test=X_test.astype('float32')\n",
        "X_train/=255\n",
        "X_test/=255'''"
      ],
      "execution_count": 67,
      "outputs": [
        {
          "output_type": "execute_result",
          "data": {
            "application/vnd.google.colaboratory.intrinsic+json": {
              "type": "string"
            },
            "text/plain": [
              "\"Y_train=np_utils.to_categorical(y_train,NB_CLASSES)\\nY_test=np_utils.to_categorical(y_test,NB_CLASSES)\\nX_train=X_train.astype('float32')\\nX_test=X_test.astype('float32')\\nX_train/=255\\nX_test/=255\""
            ]
          },
          "metadata": {
            "tags": []
          },
          "execution_count": 67
        }
      ]
    },
    {
      "cell_type": "code",
      "metadata": {
        "id": "f6VShLHmV1pN"
      },
      "source": [
        "model=Sequential()\n",
        "model.add(Conv2D(64,(3,3),padding='same',input_shape=(224,224,3)))\n",
        "model.add(Activation('relu'))\n",
        "model.add(MaxPooling2D(pool_size=(2,2)))\n",
        "model.add(Dropout(0.25))\n",
        "model.add(BatchNormalization())"
      ],
      "execution_count": 68,
      "outputs": []
    },
    {
      "cell_type": "code",
      "metadata": {
        "id": "e2sBDG-l1rJF"
      },
      "source": [
        "model.add(Conv2D(128,(3,3),padding='same'))\n",
        "model.add(Activation('relu'))\n",
        "model.add(MaxPooling2D(pool_size=(2,2)))\n",
        "model.add(Dropout(0.25))\n",
        "model.add(BatchNormalization())"
      ],
      "execution_count": 69,
      "outputs": []
    },
    {
      "cell_type": "code",
      "metadata": {
        "id": "q7HkjofbWYzx",
        "outputId": "3f50e8fe-d17d-4435-a6a8-3d43a0245a7d",
        "colab": {
          "base_uri": "https://localhost:8080/"
        }
      },
      "source": [
        "model.add(Flatten())\n",
        "model.add(Dense(128,activation = 'relu'))\n",
        "model.add(Dense(256,activation = 'relu'))\n",
        "model.add(Dense(512))\n",
        "model.add(Activation('relu'))\n",
        "model.add(Dropout(0.5))\n",
        "model.add(BatchNormalization())\n",
        "model.add(Dense(4)) # 6 rrepresents the number of classes\n",
        "model.add(Activation('softmax'))\n",
        "model.summary()"
      ],
      "execution_count": 70,
      "outputs": [
        {
          "output_type": "stream",
          "text": [
            "Model: \"sequential_5\"\n",
            "_________________________________________________________________\n",
            "Layer (type)                 Output Shape              Param #   \n",
            "=================================================================\n",
            "conv2d_9 (Conv2D)            (None, 224, 224, 64)      1792      \n",
            "_________________________________________________________________\n",
            "activation_15 (Activation)   (None, 224, 224, 64)      0         \n",
            "_________________________________________________________________\n",
            "max_pooling2d_9 (MaxPooling2 (None, 112, 112, 64)      0         \n",
            "_________________________________________________________________\n",
            "dropout_16 (Dropout)         (None, 112, 112, 64)      0         \n",
            "_________________________________________________________________\n",
            "batch_normalization_13 (Batc (None, 112, 112, 64)      256       \n",
            "_________________________________________________________________\n",
            "conv2d_10 (Conv2D)           (None, 112, 112, 128)     73856     \n",
            "_________________________________________________________________\n",
            "activation_16 (Activation)   (None, 112, 112, 128)     0         \n",
            "_________________________________________________________________\n",
            "max_pooling2d_10 (MaxPooling (None, 56, 56, 128)       0         \n",
            "_________________________________________________________________\n",
            "dropout_17 (Dropout)         (None, 56, 56, 128)       0         \n",
            "_________________________________________________________________\n",
            "batch_normalization_14 (Batc (None, 56, 56, 128)       512       \n",
            "_________________________________________________________________\n",
            "flatten_11 (Flatten)         (None, 401408)            0         \n",
            "_________________________________________________________________\n",
            "dense_23 (Dense)             (None, 128)               51380352  \n",
            "_________________________________________________________________\n",
            "dense_24 (Dense)             (None, 256)               33024     \n",
            "_________________________________________________________________\n",
            "dense_25 (Dense)             (None, 512)               131584    \n",
            "_________________________________________________________________\n",
            "activation_17 (Activation)   (None, 512)               0         \n",
            "_________________________________________________________________\n",
            "dropout_18 (Dropout)         (None, 512)               0         \n",
            "_________________________________________________________________\n",
            "batch_normalization_15 (Batc (None, 512)               2048      \n",
            "_________________________________________________________________\n",
            "dense_26 (Dense)             (None, 4)                 2052      \n",
            "_________________________________________________________________\n",
            "activation_18 (Activation)   (None, 4)                 0         \n",
            "=================================================================\n",
            "Total params: 51,625,476\n",
            "Trainable params: 51,624,068\n",
            "Non-trainable params: 1,408\n",
            "_________________________________________________________________\n"
          ],
          "name": "stdout"
        }
      ]
    },
    {
      "cell_type": "code",
      "metadata": {
        "id": "0tjjmA1y0e5t"
      },
      "source": [
        "from keras.callbacks import EarlyStopping\n",
        "early_stopping_callbacks = EarlyStopping(monitor = 'val_loss', mode = 'min', patience  = 10, verbose = 1)"
      ],
      "execution_count": 71,
      "outputs": []
    },
    {
      "cell_type": "code",
      "metadata": {
        "id": "o2PWKDuEYToV",
        "outputId": "d24a7274-6af5-4f8a-8ce2-4788723fd45c",
        "colab": {
          "base_uri": "https://localhost:8080/",
          "height": 1000
        }
      },
      "source": [
        "model.compile(loss='categorical_crossentropy',optimizer=OPTIM,metrics=['accuracy'])\n",
        "model.fit(training_set,epochs=100,validation_data=validation_set,steps_per_epoch = training_set.samples //32,\n",
        "    validation_steps = validation_set.samples //32, verbose=1)"
      ],
      "execution_count": 72,
      "outputs": [
        {
          "output_type": "stream",
          "text": [
            "Epoch 1/100\n",
            "9/9 [==============================] - 51s 6s/step - loss: 1.8038 - accuracy: 0.2907 - val_loss: 1.3724 - val_accuracy: 0.3750\n",
            "Epoch 2/100\n",
            "9/9 [==============================] - 50s 6s/step - loss: 1.6615 - accuracy: 0.3411 - val_loss: 1.4174 - val_accuracy: 0.1406\n",
            "Epoch 3/100\n",
            "9/9 [==============================] - 51s 6s/step - loss: 1.3944 - accuracy: 0.4496 - val_loss: 1.5267 - val_accuracy: 0.2344\n",
            "Epoch 4/100\n",
            "9/9 [==============================] - 50s 6s/step - loss: 1.3132 - accuracy: 0.4845 - val_loss: 1.6894 - val_accuracy: 0.2812\n",
            "Epoch 5/100\n",
            "9/9 [==============================] - 50s 6s/step - loss: 1.1942 - accuracy: 0.5271 - val_loss: 1.9114 - val_accuracy: 0.2969\n",
            "Epoch 6/100\n",
            "9/9 [==============================] - 50s 6s/step - loss: 1.0063 - accuracy: 0.5698 - val_loss: 2.0386 - val_accuracy: 0.3125\n",
            "Epoch 7/100\n",
            "9/9 [==============================] - 56s 6s/step - loss: 1.0222 - accuracy: 0.6202 - val_loss: 2.2847 - val_accuracy: 0.3281\n",
            "Epoch 8/100\n",
            "9/9 [==============================] - 51s 6s/step - loss: 0.9980 - accuracy: 0.5891 - val_loss: 2.6029 - val_accuracy: 0.3281\n",
            "Epoch 9/100\n",
            "9/9 [==============================] - 50s 6s/step - loss: 1.0313 - accuracy: 0.6202 - val_loss: 3.1178 - val_accuracy: 0.3125\n",
            "Epoch 10/100\n",
            "9/9 [==============================] - 50s 6s/step - loss: 0.9469 - accuracy: 0.6047 - val_loss: 3.3923 - val_accuracy: 0.3125\n",
            "Epoch 11/100\n",
            "9/9 [==============================] - 50s 6s/step - loss: 0.9010 - accuracy: 0.6589 - val_loss: 3.7116 - val_accuracy: 0.2969\n",
            "Epoch 12/100\n",
            "9/9 [==============================] - 56s 6s/step - loss: 0.9572 - accuracy: 0.6319 - val_loss: 3.6760 - val_accuracy: 0.3125\n",
            "Epoch 13/100\n",
            "9/9 [==============================] - 51s 6s/step - loss: 0.8900 - accuracy: 0.6589 - val_loss: 3.7763 - val_accuracy: 0.3281\n",
            "Epoch 14/100\n",
            "9/9 [==============================] - 55s 6s/step - loss: 0.8259 - accuracy: 0.6875 - val_loss: 4.1618 - val_accuracy: 0.3125\n",
            "Epoch 15/100\n",
            "9/9 [==============================] - 56s 6s/step - loss: 0.7802 - accuracy: 0.6736 - val_loss: 4.3878 - val_accuracy: 0.2969\n",
            "Epoch 16/100\n",
            "9/9 [==============================] - 50s 6s/step - loss: 0.7847 - accuracy: 0.7054 - val_loss: 4.2951 - val_accuracy: 0.3438\n",
            "Epoch 17/100\n",
            "9/9 [==============================] - 52s 6s/step - loss: 0.8177 - accuracy: 0.6977 - val_loss: 4.4162 - val_accuracy: 0.3125\n",
            "Epoch 18/100\n",
            "9/9 [==============================] - 57s 6s/step - loss: 0.7254 - accuracy: 0.7209 - val_loss: 4.2959 - val_accuracy: 0.3438\n",
            "Epoch 19/100\n",
            "1/9 [==>...........................] - ETA: 0s - loss: 0.5827 - accuracy: 0.7812"
          ],
          "name": "stdout"
        },
        {
          "output_type": "error",
          "ename": "KeyboardInterrupt",
          "evalue": "ignored",
          "traceback": [
            "\u001b[0;31m---------------------------------------------------------------------------\u001b[0m",
            "\u001b[0;31mKeyboardInterrupt\u001b[0m                         Traceback (most recent call last)",
            "\u001b[0;32m<ipython-input-72-964f8e9ccc35>\u001b[0m in \u001b[0;36m<module>\u001b[0;34m()\u001b[0m\n\u001b[1;32m      1\u001b[0m \u001b[0mmodel\u001b[0m\u001b[0;34m.\u001b[0m\u001b[0mcompile\u001b[0m\u001b[0;34m(\u001b[0m\u001b[0mloss\u001b[0m\u001b[0;34m=\u001b[0m\u001b[0;34m'categorical_crossentropy'\u001b[0m\u001b[0;34m,\u001b[0m\u001b[0moptimizer\u001b[0m\u001b[0;34m=\u001b[0m\u001b[0mOPTIM\u001b[0m\u001b[0;34m,\u001b[0m\u001b[0mmetrics\u001b[0m\u001b[0;34m=\u001b[0m\u001b[0;34m[\u001b[0m\u001b[0;34m'accuracy'\u001b[0m\u001b[0;34m]\u001b[0m\u001b[0;34m)\u001b[0m\u001b[0;34m\u001b[0m\u001b[0;34m\u001b[0m\u001b[0m\n\u001b[1;32m      2\u001b[0m model.fit(training_set,epochs=100,validation_data=validation_set,steps_per_epoch = training_set.samples //32,\n\u001b[0;32m----> 3\u001b[0;31m     validation_steps = validation_set.samples //32, verbose=1)\n\u001b[0m",
            "\u001b[0;32m/usr/local/lib/python3.6/dist-packages/tensorflow/python/keras/engine/training.py\u001b[0m in \u001b[0;36m_method_wrapper\u001b[0;34m(self, *args, **kwargs)\u001b[0m\n\u001b[1;32m    106\u001b[0m   \u001b[0;32mdef\u001b[0m \u001b[0m_method_wrapper\u001b[0m\u001b[0;34m(\u001b[0m\u001b[0mself\u001b[0m\u001b[0;34m,\u001b[0m \u001b[0;34m*\u001b[0m\u001b[0margs\u001b[0m\u001b[0;34m,\u001b[0m \u001b[0;34m**\u001b[0m\u001b[0mkwargs\u001b[0m\u001b[0;34m)\u001b[0m\u001b[0;34m:\u001b[0m\u001b[0;34m\u001b[0m\u001b[0;34m\u001b[0m\u001b[0m\n\u001b[1;32m    107\u001b[0m     \u001b[0;32mif\u001b[0m \u001b[0;32mnot\u001b[0m \u001b[0mself\u001b[0m\u001b[0;34m.\u001b[0m\u001b[0m_in_multi_worker_mode\u001b[0m\u001b[0;34m(\u001b[0m\u001b[0;34m)\u001b[0m\u001b[0;34m:\u001b[0m  \u001b[0;31m# pylint: disable=protected-access\u001b[0m\u001b[0;34m\u001b[0m\u001b[0;34m\u001b[0m\u001b[0m\n\u001b[0;32m--> 108\u001b[0;31m       \u001b[0;32mreturn\u001b[0m \u001b[0mmethod\u001b[0m\u001b[0;34m(\u001b[0m\u001b[0mself\u001b[0m\u001b[0;34m,\u001b[0m \u001b[0;34m*\u001b[0m\u001b[0margs\u001b[0m\u001b[0;34m,\u001b[0m \u001b[0;34m**\u001b[0m\u001b[0mkwargs\u001b[0m\u001b[0;34m)\u001b[0m\u001b[0;34m\u001b[0m\u001b[0;34m\u001b[0m\u001b[0m\n\u001b[0m\u001b[1;32m    109\u001b[0m \u001b[0;34m\u001b[0m\u001b[0m\n\u001b[1;32m    110\u001b[0m     \u001b[0;31m# Running inside `run_distribute_coordinator` already.\u001b[0m\u001b[0;34m\u001b[0m\u001b[0;34m\u001b[0m\u001b[0;34m\u001b[0m\u001b[0m\n",
            "\u001b[0;32m/usr/local/lib/python3.6/dist-packages/tensorflow/python/keras/engine/training.py\u001b[0m in \u001b[0;36mfit\u001b[0;34m(self, x, y, batch_size, epochs, verbose, callbacks, validation_split, validation_data, shuffle, class_weight, sample_weight, initial_epoch, steps_per_epoch, validation_steps, validation_batch_size, validation_freq, max_queue_size, workers, use_multiprocessing)\u001b[0m\n\u001b[1;32m   1096\u001b[0m                 batch_size=batch_size):\n\u001b[1;32m   1097\u001b[0m               \u001b[0mcallbacks\u001b[0m\u001b[0;34m.\u001b[0m\u001b[0mon_train_batch_begin\u001b[0m\u001b[0;34m(\u001b[0m\u001b[0mstep\u001b[0m\u001b[0;34m)\u001b[0m\u001b[0;34m\u001b[0m\u001b[0;34m\u001b[0m\u001b[0m\n\u001b[0;32m-> 1098\u001b[0;31m               \u001b[0mtmp_logs\u001b[0m \u001b[0;34m=\u001b[0m \u001b[0mtrain_function\u001b[0m\u001b[0;34m(\u001b[0m\u001b[0miterator\u001b[0m\u001b[0;34m)\u001b[0m\u001b[0;34m\u001b[0m\u001b[0;34m\u001b[0m\u001b[0m\n\u001b[0m\u001b[1;32m   1099\u001b[0m               \u001b[0;32mif\u001b[0m \u001b[0mdata_handler\u001b[0m\u001b[0;34m.\u001b[0m\u001b[0mshould_sync\u001b[0m\u001b[0;34m:\u001b[0m\u001b[0;34m\u001b[0m\u001b[0;34m\u001b[0m\u001b[0m\n\u001b[1;32m   1100\u001b[0m                 \u001b[0mcontext\u001b[0m\u001b[0;34m.\u001b[0m\u001b[0masync_wait\u001b[0m\u001b[0;34m(\u001b[0m\u001b[0;34m)\u001b[0m\u001b[0;34m\u001b[0m\u001b[0;34m\u001b[0m\u001b[0m\n",
            "\u001b[0;32m/usr/local/lib/python3.6/dist-packages/tensorflow/python/eager/def_function.py\u001b[0m in \u001b[0;36m__call__\u001b[0;34m(self, *args, **kwds)\u001b[0m\n\u001b[1;32m    778\u001b[0m       \u001b[0;32melse\u001b[0m\u001b[0;34m:\u001b[0m\u001b[0;34m\u001b[0m\u001b[0;34m\u001b[0m\u001b[0m\n\u001b[1;32m    779\u001b[0m         \u001b[0mcompiler\u001b[0m \u001b[0;34m=\u001b[0m \u001b[0;34m\"nonXla\"\u001b[0m\u001b[0;34m\u001b[0m\u001b[0;34m\u001b[0m\u001b[0m\n\u001b[0;32m--> 780\u001b[0;31m         \u001b[0mresult\u001b[0m \u001b[0;34m=\u001b[0m \u001b[0mself\u001b[0m\u001b[0;34m.\u001b[0m\u001b[0m_call\u001b[0m\u001b[0;34m(\u001b[0m\u001b[0;34m*\u001b[0m\u001b[0margs\u001b[0m\u001b[0;34m,\u001b[0m \u001b[0;34m**\u001b[0m\u001b[0mkwds\u001b[0m\u001b[0;34m)\u001b[0m\u001b[0;34m\u001b[0m\u001b[0;34m\u001b[0m\u001b[0m\n\u001b[0m\u001b[1;32m    781\u001b[0m \u001b[0;34m\u001b[0m\u001b[0m\n\u001b[1;32m    782\u001b[0m       \u001b[0mnew_tracing_count\u001b[0m \u001b[0;34m=\u001b[0m \u001b[0mself\u001b[0m\u001b[0;34m.\u001b[0m\u001b[0m_get_tracing_count\u001b[0m\u001b[0;34m(\u001b[0m\u001b[0;34m)\u001b[0m\u001b[0;34m\u001b[0m\u001b[0;34m\u001b[0m\u001b[0m\n",
            "\u001b[0;32m/usr/local/lib/python3.6/dist-packages/tensorflow/python/eager/def_function.py\u001b[0m in \u001b[0;36m_call\u001b[0;34m(self, *args, **kwds)\u001b[0m\n\u001b[1;32m    805\u001b[0m       \u001b[0;31m# In this case we have created variables on the first call, so we run the\u001b[0m\u001b[0;34m\u001b[0m\u001b[0;34m\u001b[0m\u001b[0;34m\u001b[0m\u001b[0m\n\u001b[1;32m    806\u001b[0m       \u001b[0;31m# defunned version which is guaranteed to never create variables.\u001b[0m\u001b[0;34m\u001b[0m\u001b[0;34m\u001b[0m\u001b[0;34m\u001b[0m\u001b[0m\n\u001b[0;32m--> 807\u001b[0;31m       \u001b[0;32mreturn\u001b[0m \u001b[0mself\u001b[0m\u001b[0;34m.\u001b[0m\u001b[0m_stateless_fn\u001b[0m\u001b[0;34m(\u001b[0m\u001b[0;34m*\u001b[0m\u001b[0margs\u001b[0m\u001b[0;34m,\u001b[0m \u001b[0;34m**\u001b[0m\u001b[0mkwds\u001b[0m\u001b[0;34m)\u001b[0m  \u001b[0;31m# pylint: disable=not-callable\u001b[0m\u001b[0;34m\u001b[0m\u001b[0;34m\u001b[0m\u001b[0m\n\u001b[0m\u001b[1;32m    808\u001b[0m     \u001b[0;32melif\u001b[0m \u001b[0mself\u001b[0m\u001b[0;34m.\u001b[0m\u001b[0m_stateful_fn\u001b[0m \u001b[0;32mis\u001b[0m \u001b[0;32mnot\u001b[0m \u001b[0;32mNone\u001b[0m\u001b[0;34m:\u001b[0m\u001b[0;34m\u001b[0m\u001b[0;34m\u001b[0m\u001b[0m\n\u001b[1;32m    809\u001b[0m       \u001b[0;31m# Release the lock early so that multiple threads can perform the call\u001b[0m\u001b[0;34m\u001b[0m\u001b[0;34m\u001b[0m\u001b[0;34m\u001b[0m\u001b[0m\n",
            "\u001b[0;32m/usr/local/lib/python3.6/dist-packages/tensorflow/python/eager/function.py\u001b[0m in \u001b[0;36m__call__\u001b[0;34m(self, *args, **kwargs)\u001b[0m\n\u001b[1;32m   2827\u001b[0m     \u001b[0;32mwith\u001b[0m \u001b[0mself\u001b[0m\u001b[0;34m.\u001b[0m\u001b[0m_lock\u001b[0m\u001b[0;34m:\u001b[0m\u001b[0;34m\u001b[0m\u001b[0;34m\u001b[0m\u001b[0m\n\u001b[1;32m   2828\u001b[0m       \u001b[0mgraph_function\u001b[0m\u001b[0;34m,\u001b[0m \u001b[0margs\u001b[0m\u001b[0;34m,\u001b[0m \u001b[0mkwargs\u001b[0m \u001b[0;34m=\u001b[0m \u001b[0mself\u001b[0m\u001b[0;34m.\u001b[0m\u001b[0m_maybe_define_function\u001b[0m\u001b[0;34m(\u001b[0m\u001b[0margs\u001b[0m\u001b[0;34m,\u001b[0m \u001b[0mkwargs\u001b[0m\u001b[0;34m)\u001b[0m\u001b[0;34m\u001b[0m\u001b[0;34m\u001b[0m\u001b[0m\n\u001b[0;32m-> 2829\u001b[0;31m     \u001b[0;32mreturn\u001b[0m \u001b[0mgraph_function\u001b[0m\u001b[0;34m.\u001b[0m\u001b[0m_filtered_call\u001b[0m\u001b[0;34m(\u001b[0m\u001b[0margs\u001b[0m\u001b[0;34m,\u001b[0m \u001b[0mkwargs\u001b[0m\u001b[0;34m)\u001b[0m  \u001b[0;31m# pylint: disable=protected-access\u001b[0m\u001b[0;34m\u001b[0m\u001b[0;34m\u001b[0m\u001b[0m\n\u001b[0m\u001b[1;32m   2830\u001b[0m \u001b[0;34m\u001b[0m\u001b[0m\n\u001b[1;32m   2831\u001b[0m   \u001b[0;34m@\u001b[0m\u001b[0mproperty\u001b[0m\u001b[0;34m\u001b[0m\u001b[0;34m\u001b[0m\u001b[0m\n",
            "\u001b[0;32m/usr/local/lib/python3.6/dist-packages/tensorflow/python/eager/function.py\u001b[0m in \u001b[0;36m_filtered_call\u001b[0;34m(self, args, kwargs, cancellation_manager)\u001b[0m\n\u001b[1;32m   1846\u001b[0m                            resource_variable_ops.BaseResourceVariable))],\n\u001b[1;32m   1847\u001b[0m         \u001b[0mcaptured_inputs\u001b[0m\u001b[0;34m=\u001b[0m\u001b[0mself\u001b[0m\u001b[0;34m.\u001b[0m\u001b[0mcaptured_inputs\u001b[0m\u001b[0;34m,\u001b[0m\u001b[0;34m\u001b[0m\u001b[0;34m\u001b[0m\u001b[0m\n\u001b[0;32m-> 1848\u001b[0;31m         cancellation_manager=cancellation_manager)\n\u001b[0m\u001b[1;32m   1849\u001b[0m \u001b[0;34m\u001b[0m\u001b[0m\n\u001b[1;32m   1850\u001b[0m   \u001b[0;32mdef\u001b[0m \u001b[0m_call_flat\u001b[0m\u001b[0;34m(\u001b[0m\u001b[0mself\u001b[0m\u001b[0;34m,\u001b[0m \u001b[0margs\u001b[0m\u001b[0;34m,\u001b[0m \u001b[0mcaptured_inputs\u001b[0m\u001b[0;34m,\u001b[0m \u001b[0mcancellation_manager\u001b[0m\u001b[0;34m=\u001b[0m\u001b[0;32mNone\u001b[0m\u001b[0;34m)\u001b[0m\u001b[0;34m:\u001b[0m\u001b[0;34m\u001b[0m\u001b[0;34m\u001b[0m\u001b[0m\n",
            "\u001b[0;32m/usr/local/lib/python3.6/dist-packages/tensorflow/python/eager/function.py\u001b[0m in \u001b[0;36m_call_flat\u001b[0;34m(self, args, captured_inputs, cancellation_manager)\u001b[0m\n\u001b[1;32m   1922\u001b[0m       \u001b[0;31m# No tape is watching; skip to running the function.\u001b[0m\u001b[0;34m\u001b[0m\u001b[0;34m\u001b[0m\u001b[0;34m\u001b[0m\u001b[0m\n\u001b[1;32m   1923\u001b[0m       return self._build_call_outputs(self._inference_function.call(\n\u001b[0;32m-> 1924\u001b[0;31m           ctx, args, cancellation_manager=cancellation_manager))\n\u001b[0m\u001b[1;32m   1925\u001b[0m     forward_backward = self._select_forward_and_backward_functions(\n\u001b[1;32m   1926\u001b[0m         \u001b[0margs\u001b[0m\u001b[0;34m,\u001b[0m\u001b[0;34m\u001b[0m\u001b[0;34m\u001b[0m\u001b[0m\n",
            "\u001b[0;32m/usr/local/lib/python3.6/dist-packages/tensorflow/python/eager/function.py\u001b[0m in \u001b[0;36mcall\u001b[0;34m(self, ctx, args, cancellation_manager)\u001b[0m\n\u001b[1;32m    548\u001b[0m               \u001b[0minputs\u001b[0m\u001b[0;34m=\u001b[0m\u001b[0margs\u001b[0m\u001b[0;34m,\u001b[0m\u001b[0;34m\u001b[0m\u001b[0;34m\u001b[0m\u001b[0m\n\u001b[1;32m    549\u001b[0m               \u001b[0mattrs\u001b[0m\u001b[0;34m=\u001b[0m\u001b[0mattrs\u001b[0m\u001b[0;34m,\u001b[0m\u001b[0;34m\u001b[0m\u001b[0;34m\u001b[0m\u001b[0m\n\u001b[0;32m--> 550\u001b[0;31m               ctx=ctx)\n\u001b[0m\u001b[1;32m    551\u001b[0m         \u001b[0;32melse\u001b[0m\u001b[0;34m:\u001b[0m\u001b[0;34m\u001b[0m\u001b[0;34m\u001b[0m\u001b[0m\n\u001b[1;32m    552\u001b[0m           outputs = execute.execute_with_cancellation(\n",
            "\u001b[0;32m/usr/local/lib/python3.6/dist-packages/tensorflow/python/eager/execute.py\u001b[0m in \u001b[0;36mquick_execute\u001b[0;34m(op_name, num_outputs, inputs, attrs, ctx, name)\u001b[0m\n\u001b[1;32m     58\u001b[0m     \u001b[0mctx\u001b[0m\u001b[0;34m.\u001b[0m\u001b[0mensure_initialized\u001b[0m\u001b[0;34m(\u001b[0m\u001b[0;34m)\u001b[0m\u001b[0;34m\u001b[0m\u001b[0;34m\u001b[0m\u001b[0m\n\u001b[1;32m     59\u001b[0m     tensors = pywrap_tfe.TFE_Py_Execute(ctx._handle, device_name, op_name,\n\u001b[0;32m---> 60\u001b[0;31m                                         inputs, attrs, num_outputs)\n\u001b[0m\u001b[1;32m     61\u001b[0m   \u001b[0;32mexcept\u001b[0m \u001b[0mcore\u001b[0m\u001b[0;34m.\u001b[0m\u001b[0m_NotOkStatusException\u001b[0m \u001b[0;32mas\u001b[0m \u001b[0me\u001b[0m\u001b[0;34m:\u001b[0m\u001b[0;34m\u001b[0m\u001b[0;34m\u001b[0m\u001b[0m\n\u001b[1;32m     62\u001b[0m     \u001b[0;32mif\u001b[0m \u001b[0mname\u001b[0m \u001b[0;32mis\u001b[0m \u001b[0;32mnot\u001b[0m \u001b[0;32mNone\u001b[0m\u001b[0;34m:\u001b[0m\u001b[0;34m\u001b[0m\u001b[0;34m\u001b[0m\u001b[0m\n",
            "\u001b[0;31mKeyboardInterrupt\u001b[0m: "
          ]
        }
      ]
    },
    {
      "cell_type": "code",
      "metadata": {
        "id": "yCu2E_9A829q"
      },
      "source": [
        ""
      ],
      "execution_count": null,
      "outputs": []
    }
  ]
}